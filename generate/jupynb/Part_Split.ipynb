{
 "cells": [
  {
   "cell_type": "code",
   "execution_count": 1,
   "id": "b082b0d0-943f-44c7-9c8b-7a0f26003fef",
   "metadata": {},
   "outputs": [],
   "source": [
    "import os\n",
    "import numpy as np\n",
    "def toParts(inDir, size):\n",
    "    sorted = np.sort(np.array(os.listdir(inDir)))\n",
    "    l = len(sorted)\n",
    "    numP = (l // size) + 1\n",
    "    currPart = 1\n",
    "    oList = []\n",
    "    for i,j in enumerate(sorted):\n",
    "        if(i <= (currPart*size - 1)):\n",
    "            if(f\"{inDir}p{currPart}\" not in os.listdir()):\n",
    "                os.mkdir(f\"{inDir}p{currPart}\")\n",
    "            oList.append(f\"./{inDir}p{currPart}/{j}\")\n",
    "            os.system(f\"cp -r ./{inDir}/{j} ./{inDir}p{currPart}/{j}\")\n",
    "        else:\n",
    "            currPart += 1\n",
    "            if(f\"{inDir}p{currPart}\" not in os.listdir()):\n",
    "                os.mkdir(f\"{inDir}p{currPart}\")\n",
    "            oList.append(f\"./{inDir}p{currPart}/{j}\")\n",
    "            os.system(f\"cp -r ./{inDir}/{j} ./{inDir}p{currPart}/{j}\")\n",
    "    return(oList)\n"
   ]
  },
  {
   "cell_type": "code",
   "execution_count": 2,
   "id": "dbf6327d-7af8-4e45-92de-d4cba798dfd9",
   "metadata": {},
   "outputs": [],
   "source": [
    "a = toParts(\"final1\", 64)"
   ]
  }
 ],
 "metadata": {
  "kernelspec": {
   "display_name": "Python 3 (ipykernel)",
   "language": "python",
   "name": "python3"
  },
  "language_info": {
   "codemirror_mode": {
    "name": "ipython",
    "version": 3
   },
   "file_extension": ".py",
   "mimetype": "text/x-python",
   "name": "python",
   "nbconvert_exporter": "python",
   "pygments_lexer": "ipython3",
   "version": "3.11.6"
  }
 },
 "nbformat": 4,
 "nbformat_minor": 5
}
